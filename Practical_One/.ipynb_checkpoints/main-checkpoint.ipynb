{
 "cells": [
  {
   "cell_type": "code",
   "execution_count": 2,
   "id": "a3b6bed0",
   "metadata": {},
   "outputs": [],
   "source": [
    "import pandas as pd "
   ]
  },
  {
   "cell_type": "code",
   "execution_count": 3,
   "id": "aa02e0f8",
   "metadata": {},
   "outputs": [],
   "source": [
    "data = [\n",
    "    \"When life gives you lemons, make lemonade! 🙂\",\n",
    "    \"She bought 2 lemons for $1 at Maven Market.\",\n",
    "    \"A dozen lemons will make a gallon of lemonade. [AllRecipes]\",\n",
    "    \"lemon, lemon, lemons, lemon, lemon, lemons\",\n",
    "    \"He's running to the market to get a lemon — there's a great sale today.\",\n",
    "    \"Does Maven Market carry Eureka lemons or Meyer lemons?\",\n",
    "    \"An Arnold Palmer is half lemonade, half iced tea. [Wikipedia]\",\n",
    "    \"iced tea is my favorite\"\n",
    "]"
   ]
  },
  {
   "cell_type": "code",
   "execution_count": 4,
   "id": "62eba03b",
   "metadata": {},
   "outputs": [],
   "source": [
    "\n",
    "# Convert list to DataFrame\n",
    "\n",
    "data_df = pd.DataFrame(data, columns=['sentence'])\n"
   ]
  },
  {
   "cell_type": "code",
   "execution_count": 5,
   "id": "26a835ae",
   "metadata": {},
   "outputs": [],
   "source": [
    "\n",
    "# Set display options to show full content\n",
    "\n",
    "pd.set_option('display.max_colwidth', None)\n"
   ]
  },
  {
   "cell_type": "code",
   "execution_count": 6,
   "id": "ca94874f",
   "metadata": {},
   "outputs": [],
   "source": [
    "\n",
    "# Create a copy for spaCy processing\n",
    "\n",
    "spacy_df = data_df.copy()\n",
    "\n",
    "\n",
    "\n",
    "# Convert text to lowercase\n",
    "\n",
    "spacy_df['clean_sentence'] = spacy_df['sentence'].str.lower()\n"
   ]
  },
  {
   "cell_type": "code",
   "execution_count": 7,
   "id": "d64f80d2",
   "metadata": {},
   "outputs": [
    {
     "name": "stderr",
     "output_type": "stream",
     "text": [
      "/var/folders/3p/zctfkbg57v56ydwq4b1ws_vr0000gn/T/ipykernel_83573/2042077182.py:3: FutureWarning: The default value of regex will change from True to False in a future version.\n",
      "  spacy_df['clean_sentence'] = spacy_df['clean_sentence'].str.replace('[wikipedia]', '')\n"
     ]
    }
   ],
   "source": [
    "\n",
    "# Remove specific citations\n",
    "\n",
    "spacy_df['clean_sentence'] = spacy_df['clean_sentence'].str.replace('[wikipedia]', '')\n",
    "\n",
    "\n",
    "\n",
    "# Advanced cleaning with regex\n",
    "\n",
    "combined = r'https?://\\S+|www\\.\\S+|<.*?>|\\S+@\\S+\\.\\S+|@\\w+|#\\w+|[^A-Za-z0-9\\s]'\n",
    "\n",
    "spacy_df['clean_sentence'] = spacy_df['clean_sentence'].str.replace(combined, ' ', regex=True)\n",
    "\n",
    "spacy_df['clean_sentence'] = spacy_df['clean_sentence'].str.replace(r'\\s+', ' ', regex=True).str.strip()\n"
   ]
  },
  {
   "cell_type": "code",
   "execution_count": 9,
   "id": "23337cae",
   "metadata": {},
   "outputs": [
    {
     "ename": "ModuleNotFoundError",
     "evalue": "No module named 'spacy'",
     "output_type": "error",
     "traceback": [
      "\u001b[0;31m---------------------------------------------------------------------------\u001b[0m",
      "\u001b[0;31mModuleNotFoundError\u001b[0m                       Traceback (most recent call last)",
      "Cell \u001b[0;32mIn[9], line 1\u001b[0m\n\u001b[0;32m----> 1\u001b[0m \u001b[38;5;28;01mimport\u001b[39;00m \u001b[38;5;21;01mspacy\u001b[39;00m\n\u001b[1;32m      5\u001b[0m \u001b[38;5;66;03m# Download and install English language model\u001b[39;00m\n\u001b[1;32m      7\u001b[0m get_ipython()\u001b[38;5;241m.\u001b[39msystem(\u001b[38;5;124m'\u001b[39m\u001b[38;5;124mpython -m spacy download en_core_web_sm\u001b[39m\u001b[38;5;124m'\u001b[39m)\n",
      "\u001b[0;31mModuleNotFoundError\u001b[0m: No module named 'spacy'"
     ]
    }
   ],
   "source": [
    "\n",
    "import spacy\n",
    "\n",
    "\n",
    "\n",
    "# Download and install English language model\n",
    "\n",
    "!python -m spacy download en_core_web_sm\n",
    "\n",
    "\n",
    "\n",
    "# Load the pre-trained pipeline\n",
    "\n",
    "nlp = spacy.load('en_core_web_sm')\n",
    "\n",
    "\n",
    "\n",
    "# Process a sample sentence\n",
    "\n",
    "phrase = spacy_df.clean_sentence[0] # \"when life gives you lemons make lemonade\"\n",
    "\n",
    "doc = nlp(phrase)\n"
   ]
  },
  {
   "cell_type": "code",
   "execution_count": null,
   "id": "f59129a3",
   "metadata": {},
   "outputs": [],
   "source": [
    "\n",
    "# Extract tokens as text strings\n",
    "\n",
    "[token.text for token in doc]\n",
    "\n",
    "# Output: ['when', 'life', 'gives', 'you', 'lemons', 'make', 'lemonade']\n",
    "\n",
    "\n",
    "\n",
    "# Extract tokens as spaCy objects (with linguistic attributes)\n",
    "\n",
    "[token for token in doc]\n",
    "\n",
    "# Output: [when, life, gives, you, lemons, make, lemonade]\n"
   ]
  },
  {
   "cell_type": "code",
   "execution_count": null,
   "id": "ddacdc49",
   "metadata": {},
   "outputs": [],
   "source": [
    "\n",
    "# Extract lemmatized forms\n",
    "\n",
    "[token.lemma_ for token in doc]\n",
    "\n",
    "# Output: ['when', 'life', 'give', 'you', 'lemon', 'make', 'lemonade']\n"
   ]
  },
  {
   "cell_type": "code",
   "execution_count": null,
   "id": "f8137fef",
   "metadata": {},
   "outputs": [],
   "source": [
    "\n",
    "# View all English stop words in spaCy\n",
    "\n",
    "list(nlp.Defaults.stop_words)\n",
    "\n",
    "print(f\"Total stop words: {len(list(nlp.Defaults.stop_words))}\") # 326 stop words\n",
    "\n",
    "\n",
    "\n",
    "# Remove stop words\n",
    "\n",
    "[token for token in doc if  not token.is_stop]\n",
    "\n",
    "# Output: [life, gives, lemons, lemonade]\n",
    "\n",
    "\n",
    "\n",
    "# Combine lemmatization and stop word removal\n",
    "\n",
    "[token.lemma_ for token in doc if  not token.is_stop]\n",
    "\n",
    "# Output: ['life', 'give', 'lemon', 'lemonade']\n",
    "\n",
    "\n",
    "\n",
    "# Convert back to sentence format\n",
    "\n",
    "norm = [token.lemma_ for token in doc if  not token.is_stop]\n",
    "\n",
    "' '.join(norm) # Output: 'life give lemon lemonade'\n"
   ]
  },
  {
   "cell_type": "code",
   "execution_count": null,
   "id": "cc43e835",
   "metadata": {},
   "outputs": [],
   "source": [
    "\n",
    "# Function for lemmatization and stop word removal\n",
    "\n",
    "def  token_lemma_stopw(text):\n",
    "\n",
    "doc = nlp(text)\n",
    "\n",
    "output = [token.lemma_ for token in doc if  not token.is_stop]\n",
    "\n",
    "return  ' '.join(output)\n",
    "\n",
    "\n",
    "\n",
    "# Apply to entire dataset\n",
    "\n",
    "spacy_df.clean_sentence.apply(token_lemma_stopw)\n"
   ]
  },
  {
   "cell_type": "code",
   "execution_count": null,
   "id": "658b950a",
   "metadata": {},
   "outputs": [],
   "source": [
    "\n",
    "def  lower_replace(series):\n",
    "\n",
    "output = series.str.lower()\n",
    "\n",
    "combined = r'https?://\\S+|www\\.\\S+|<.*?>|\\S+@\\S+\\.\\S+|@\\w+|#\\w+|[^A-Za-z0-9\\s]'\n",
    "\n",
    "output = output.str.replace(combined, ' ', regex=True)\n",
    "\n",
    "return output\n",
    "\n",
    "\n",
    "\n",
    "def  nlp_pipeline(series):\n",
    "\n",
    "output = lower_replace(series)\n",
    "\n",
    "output = output.apply(token_lemma_stopw)\n",
    "\n",
    "return output\n",
    "\n",
    "\n",
    "\n",
    "# Apply complete pipeline\n",
    "\n",
    "cleaned_text = nlp_pipeline(data_df.sentence)\n",
    "\n",
    "\n",
    "\n",
    "# Save processed data for future use\n",
    "\n",
    "pd.to_pickle(cleaned_text, 'preprocessed_text.pkl')\n"
   ]
  },
  {
   "cell_type": "code",
   "execution_count": null,
   "id": "2018ecb1",
   "metadata": {},
   "outputs": [],
   "source": [
    "\n",
    "# Load preprocessed data\n",
    "\n",
    "import pandas as pd\n",
    "\n",
    "series = pd.read_pickle('preprocessed_text.pkl')\n",
    "\n",
    "\n",
    "\n",
    "from sklearn.feature_extraction.text import CountVectorizer\n",
    "\n",
    "\n",
    "\n",
    "# Create Count Vectorizer\n",
    "\n",
    "cv = CountVectorizer()\n",
    "\n",
    "bow = cv.fit_transform(series)\n",
    "\n",
    "\n",
    "\n",
    "# Convert to DataFrame for visualization\n",
    "\n",
    "pd.DataFrame(bow.toarray(), columns=cv.get_feature_names_out())\n"
   ]
  },
  {
   "cell_type": "code",
   "execution_count": null,
   "id": "007aed05",
   "metadata": {},
   "outputs": [],
   "source": [
    "\n",
    "# Count Vectorizer with filtering\n",
    "\n",
    "cv1 = CountVectorizer(\n",
    "\n",
    "stop_words='english', # Remove English stop words\n",
    "\n",
    "ngram_range=(1,1), # Use only single words (unigrams)\n",
    "\n",
    "min_df=2  # Include words that appear in at least 2 documents\n",
    "\n",
    ")\n",
    "\n",
    "\n",
    "\n",
    "bow1 = cv1.fit_transform(series)\n",
    "\n",
    "bow1_df = pd.DataFrame(bow1.toarray(), columns=cv1.get_feature_names_out())\n",
    "\n",
    "\n",
    "\n",
    "# Calculate term frequencies\n",
    "\n",
    "term_freq = bow1_df.sum()\n"
   ]
  },
  {
   "cell_type": "code",
   "execution_count": null,
   "id": "2c932dbc",
   "metadata": {},
   "outputs": [],
   "source": [
    "\n",
    "from sklearn.feature_extraction.text import TfidfVectorizer\n",
    "\n",
    "\n",
    "\n",
    "# Basic TF-IDF vectorization\n",
    "\n",
    "tv = TfidfVectorizer()\n",
    "\n",
    "tvidf = tv.fit_transform(series)\n",
    "\n",
    "tvidf_df = pd.DataFrame(tvidf.toarray(), columns=tv.get_feature_names_out())\n",
    "\n",
    "\n",
    "\n",
    "# TF-IDF with filtering\n",
    "\n",
    "tv1 = TfidfVectorizer(min_df=2) # Words must appear in at least 2 documents\n",
    "\n",
    "tvidf1 = tv1.fit_transform(series)\n",
    "\n",
    "tvidf1_df = pd.DataFrame(tvidf1.toarray(), columns=tv1.get_feature_names_out())\n"
   ]
  },
  {
   "cell_type": "code",
   "execution_count": null,
   "id": "eb2ed58e",
   "metadata": {},
   "outputs": [],
   "source": [
    "\n",
    "# Bigram TF-IDF (pairs of consecutive words)\n",
    "\n",
    "tv2 = TfidfVectorizer(ngram_range=(1,2)) # Include both unigrams and bigrams\n",
    "\n",
    "tvidf2 = tv2.fit_transform(series)\n",
    "\n",
    "tvidf2_df = pd.DataFrame(tvidf2.toarray(), columns=tv2.get_feature_names_out())\n",
    "\n",
    "\n",
    "\n",
    "# Analyze feature importance\n",
    "\n",
    "tvidf2_df.sum().sort_values(ascending=False)\n"
   ]
  }
 ],
 "metadata": {
  "kernelspec": {
   "display_name": "base",
   "language": "python",
   "name": "python3"
  },
  "language_info": {
   "codemirror_mode": {
    "name": "ipython",
    "version": 3
   },
   "file_extension": ".py",
   "mimetype": "text/x-python",
   "name": "python",
   "nbconvert_exporter": "python",
   "pygments_lexer": "ipython3",
   "version": "3.11.4"
  }
 },
 "nbformat": 4,
 "nbformat_minor": 5
}
